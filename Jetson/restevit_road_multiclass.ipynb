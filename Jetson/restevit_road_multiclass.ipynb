{
 "cells": [
  {
   "cell_type": "code",
   "execution_count": 1,
   "id": "3a8b7ba1-b75f-42ab-b4b7-ebd6ac652704",
   "metadata": {},
   "outputs": [
    {
     "ename": "IndentationError",
     "evalue": "unindent does not match any outer indentation level (Torch_load.py, line 140)",
     "output_type": "error",
     "traceback": [
      "Traceback \u001b[0;36m(most recent call last)\u001b[0m:\n",
      "\u001b[0m  File \u001b[1;32m/opt/tljh/user/lib/python3.10/site-packages/IPython/core/interactiveshell.py:3577\u001b[0m in \u001b[1;35mrun_code\u001b[0m\n    exec(code_obj, self.user_global_ns, self.user_ns)\u001b[0m\n",
      "\u001b[0m  Cell \u001b[1;32mIn[1], line 5\u001b[0m\n    from Load_data import Torch_load\u001b[0m\n",
      "\u001b[0;36m  File \u001b[0;32m~/Graduation_Thesis/Jetson/Load_data/__init__.py:1\u001b[0;36m\n\u001b[0;31m    from Load_data.Torch_load import Load_data as Torch_load\u001b[0;36m\n",
      "\u001b[0;36m  File \u001b[0;32m~/Graduation_Thesis/Jetson/Load_data/Torch_load.py:140\u001b[0;36m\u001b[0m\n\u001b[0;31m    else:\u001b[0m\n\u001b[0m         ^\u001b[0m\n\u001b[0;31mIndentationError\u001b[0m\u001b[0;31m:\u001b[0m unindent does not match any outer indentation level\n"
     ]
    }
   ],
   "source": [
    "from resevit_road import restevit_road_cls,restevit_road_cls_lightweight\n",
    "from torchsummary import summary\n",
    "import torch\n",
    "from fvcore.nn import FlopCountAnalysis,flop_count_table\n",
    "from Load_data import Torch_load\n",
    "from torch import nn\n",
    "from tqdm import tqdm\n",
    "from torch import optim\n",
    "from Report_model.Report_Torch import Class_Report"
   ]
  },
  {
   "cell_type": "code",
   "execution_count": null,
   "id": "2136daff-e427-48a9-a1bc-49441dfb31b6",
   "metadata": {},
   "outputs": [],
   "source": [
    "model=restevit_road_cls_lightweight(num_class=4)\n",
    "device = torch.device(\"cuda:0\" if torch.cuda.is_available() else \"cpu\")\n",
    "model= model.to(device)\n",
    "summary(model, (3,224,224), batch_size=1)\n",
    "inputs= torch.rand(1,3, 224,224)\n",
    "inputs=inputs.to(device)\n",
    "flops=FlopCountAnalysis(model,inputs)\n",
    "flops.total()\n",
    "flop_count_table(flops)"
   ]
  },
  {
   "cell_type": "code",
   "execution_count": 3,
   "id": "dcbe0195-54e6-44f2-a70d-eefc0a68a890",
   "metadata": {},
   "outputs": [],
   "source": [
    "def save_checkpoint(model, filename):\n",
    "    torch.save(model.state_dict(), filename)\n",
    "    \n",
    "output_log=\"output.txt\"\n",
    "def train(epochs_per_fold=30,batch_size=32,image_size=224):\n",
    "    for fold,(dataloader_dict) in enumerate(Torch_load(image_size=image_size,batch_size=batch_size,task=\"multi\")()):\n",
    "        print(\"Fold:\",fold+1)\n",
    "        criterior= nn.CrossEntropyLoss()\n",
    "        if fold<1: optimizer = optim.Adam(model.parameters(), lr=0.0001)\n",
    "        else: optimizer = optim.Adam(model.parameters(), lr=0.00001)\n",
    "        early_stop_thresh = 5\n",
    "        best_accuracy = -1\n",
    "        best_epoch = -1\n",
    "        stop=False\n",
    "        for epoch in range(epochs_per_fold):\n",
    "            if stop==True: break\n",
    "            with open(output_log, 'a') as f:\n",
    "                print(\"Epoch {}/{}\".format(epoch, epochs_per_fold),file=f)\n",
    "            for phase in [\"Train\", \"Val\"]:\n",
    "                if phase == \"Train\":\n",
    "                    model.train()\n",
    "                else:\n",
    "                    model.eval()\n",
    "                    \n",
    "                epoch_loss = 0.0\n",
    "                epoch_corrects = 0\n",
    "                \n",
    "                for inputs, labels in tqdm(dataloader_dict[phase]):\n",
    "                    inputs = inputs.to(device)\n",
    "                    labels = labels.to(device)\n",
    "                    optimizer.zero_grad()\n",
    "                    \n",
    "                    with torch.set_grad_enabled(phase == \"Train\"):\n",
    "                        outputs = model(inputs)\n",
    "                        loss = criterior(outputs, labels)\n",
    "                        _, preds = torch.max(outputs, 1)\n",
    "                        \n",
    "                        if phase == \"Train\":\n",
    "                            loss.backward()\n",
    "                            optimizer.step()\n",
    "                            \n",
    "                    epoch_loss += loss.item()*inputs.size(0)\n",
    "                    epoch_corrects += torch.sum(preds==labels.data)\n",
    "                epoch_loss = epoch_loss / len(dataloader_dict[phase].dataset)\n",
    "                epoch_accuracy = epoch_corrects.double() / len(dataloader_dict[phase].dataset)\n",
    "                if phase == \"Val\":\n",
    "                    if epoch_accuracy > best_accuracy:\n",
    "                        best_accuracy = epoch_accuracy\n",
    "                        best_epoch = epoch\n",
    "                        save_checkpoint(model, \"ResEViT_multiclass.pth\")\n",
    "                    elif epoch - best_epoch > early_stop_thresh:\n",
    "                        print(\"Early stopped training at epoch %d\" % epoch)\n",
    "                        stop=True  # terminate the training loo\n",
    "                with open(output_log, 'a') as f:\n",
    "                    print(\"{} Loss: {:.4f} Acc: {:.4f}\".format(phase, epoch_loss, epoch_accuracy), file=f)"
   ]
  },
  {
   "cell_type": "code",
   "execution_count": 4,
   "id": "016506bb-7542-4d7e-b51f-1971db7bf16c",
   "metadata": {},
   "outputs": [
    {
     "name": "stdout",
     "output_type": "stream",
     "text": [
      "Fold: 1\n"
     ]
    },
    {
     "name": "stderr",
     "output_type": "stream",
     "text": [
      "100%|██████████| 52/52 [00:19<00:00,  2.63it/s]\n",
      "100%|██████████| 13/13 [00:04<00:00,  3.24it/s]\n",
      "100%|██████████| 52/52 [00:18<00:00,  2.83it/s]\n",
      "100%|██████████| 13/13 [00:03<00:00,  3.72it/s]\n",
      "100%|██████████| 52/52 [00:18<00:00,  2.81it/s]\n",
      "100%|██████████| 13/13 [00:03<00:00,  3.55it/s]\n",
      "100%|██████████| 52/52 [00:18<00:00,  2.81it/s]\n",
      "100%|██████████| 13/13 [00:03<00:00,  3.73it/s]\n",
      "100%|██████████| 52/52 [00:18<00:00,  2.84it/s]\n",
      "100%|██████████| 13/13 [00:03<00:00,  3.53it/s]\n",
      "100%|██████████| 52/52 [00:18<00:00,  2.82it/s]\n",
      "100%|██████████| 13/13 [00:03<00:00,  3.66it/s]\n",
      "100%|██████████| 52/52 [00:18<00:00,  2.82it/s]\n",
      "100%|██████████| 13/13 [00:03<00:00,  3.75it/s]\n",
      "100%|██████████| 52/52 [00:18<00:00,  2.81it/s]\n",
      "100%|██████████| 13/13 [00:03<00:00,  3.53it/s]\n",
      "100%|██████████| 52/52 [00:18<00:00,  2.79it/s]\n",
      "100%|██████████| 13/13 [00:03<00:00,  3.77it/s]\n"
     ]
    },
    {
     "name": "stdout",
     "output_type": "stream",
     "text": [
      "Early stopped training at epoch 8\n",
      "Fold: 2\n"
     ]
    },
    {
     "name": "stderr",
     "output_type": "stream",
     "text": [
      "100%|██████████| 52/52 [00:18<00:00,  2.84it/s]\n",
      "100%|██████████| 13/13 [00:03<00:00,  3.57it/s]\n",
      "100%|██████████| 52/52 [00:18<00:00,  2.80it/s]\n",
      "100%|██████████| 13/13 [00:03<00:00,  3.74it/s]\n",
      "100%|██████████| 52/52 [00:18<00:00,  2.81it/s]\n",
      "100%|██████████| 13/13 [00:03<00:00,  3.53it/s]\n",
      "100%|██████████| 52/52 [00:18<00:00,  2.87it/s]\n",
      "100%|██████████| 13/13 [00:03<00:00,  3.73it/s]\n",
      "100%|██████████| 52/52 [00:18<00:00,  2.83it/s]\n",
      "100%|██████████| 13/13 [00:03<00:00,  3.64it/s]\n",
      "100%|██████████| 52/52 [00:18<00:00,  2.81it/s]\n",
      "100%|██████████| 13/13 [00:03<00:00,  3.76it/s]\n",
      "100%|██████████| 52/52 [00:18<00:00,  2.81it/s]\n",
      "100%|██████████| 13/13 [00:03<00:00,  3.60it/s]\n",
      "100%|██████████| 52/52 [00:18<00:00,  2.79it/s]\n",
      "100%|██████████| 13/13 [00:03<00:00,  3.63it/s]\n",
      "100%|██████████| 52/52 [00:18<00:00,  2.81it/s]\n",
      "100%|██████████| 13/13 [00:03<00:00,  3.43it/s]\n",
      "100%|██████████| 52/52 [00:18<00:00,  2.82it/s]\n",
      "100%|██████████| 13/13 [00:03<00:00,  3.53it/s]\n",
      "100%|██████████| 52/52 [00:18<00:00,  2.87it/s]\n",
      "100%|██████████| 13/13 [00:03<00:00,  3.39it/s]\n",
      "100%|██████████| 52/52 [00:18<00:00,  2.77it/s]\n",
      "100%|██████████| 13/13 [00:03<00:00,  3.46it/s]\n",
      "100%|██████████| 52/52 [00:18<00:00,  2.79it/s]\n",
      "100%|██████████| 13/13 [00:03<00:00,  3.53it/s]\n"
     ]
    },
    {
     "name": "stdout",
     "output_type": "stream",
     "text": [
      "Early stopped training at epoch 12\n",
      "Fold: 3\n"
     ]
    },
    {
     "name": "stderr",
     "output_type": "stream",
     "text": [
      "100%|██████████| 52/52 [00:19<00:00,  2.73it/s]\n",
      "100%|██████████| 13/13 [00:03<00:00,  4.03it/s]\n",
      "100%|██████████| 52/52 [00:18<00:00,  2.74it/s]\n",
      "100%|██████████| 13/13 [00:03<00:00,  3.93it/s]\n",
      "100%|██████████| 52/52 [00:18<00:00,  2.77it/s]\n",
      "100%|██████████| 13/13 [00:03<00:00,  4.16it/s]\n",
      "100%|██████████| 52/52 [00:18<00:00,  2.77it/s]\n",
      "100%|██████████| 13/13 [00:03<00:00,  4.01it/s]\n",
      "100%|██████████| 52/52 [00:18<00:00,  2.76it/s]\n",
      "100%|██████████| 13/13 [00:03<00:00,  4.10it/s]\n",
      "100%|██████████| 52/52 [00:19<00:00,  2.70it/s]\n",
      "100%|██████████| 13/13 [00:03<00:00,  4.19it/s]\n",
      "100%|██████████| 52/52 [00:18<00:00,  2.75it/s]\n",
      "100%|██████████| 13/13 [00:03<00:00,  4.08it/s]\n"
     ]
    },
    {
     "name": "stdout",
     "output_type": "stream",
     "text": [
      "Early stopped training at epoch 6\n",
      "Fold: 4\n"
     ]
    },
    {
     "name": "stderr",
     "output_type": "stream",
     "text": [
      "100%|██████████| 52/52 [00:18<00:00,  2.86it/s]\n",
      "100%|██████████| 13/13 [00:03<00:00,  3.37it/s]\n",
      "100%|██████████| 52/52 [00:18<00:00,  2.86it/s]\n",
      "100%|██████████| 13/13 [00:03<00:00,  3.50it/s]\n",
      "100%|██████████| 52/52 [00:18<00:00,  2.85it/s]\n",
      "100%|██████████| 13/13 [00:03<00:00,  3.35it/s]\n",
      "100%|██████████| 52/52 [00:18<00:00,  2.88it/s]\n",
      "100%|██████████| 13/13 [00:03<00:00,  3.29it/s]\n",
      "100%|██████████| 52/52 [00:18<00:00,  2.88it/s]\n",
      "100%|██████████| 13/13 [00:03<00:00,  3.34it/s]\n",
      "100%|██████████| 52/52 [00:18<00:00,  2.87it/s]\n",
      "100%|██████████| 13/13 [00:03<00:00,  3.50it/s]\n",
      "100%|██████████| 52/52 [00:18<00:00,  2.88it/s]\n",
      "100%|██████████| 13/13 [00:04<00:00,  3.24it/s]\n"
     ]
    },
    {
     "name": "stdout",
     "output_type": "stream",
     "text": [
      "Early stopped training at epoch 6\n",
      "Fold: 5\n"
     ]
    },
    {
     "name": "stderr",
     "output_type": "stream",
     "text": [
      "100%|██████████| 52/52 [00:18<00:00,  2.75it/s]\n",
      "100%|██████████| 13/13 [00:03<00:00,  4.00it/s]\n",
      "100%|██████████| 52/52 [00:18<00:00,  2.75it/s]\n",
      "100%|██████████| 13/13 [00:03<00:00,  4.14it/s]\n",
      "100%|██████████| 52/52 [00:18<00:00,  2.77it/s]\n",
      "100%|██████████| 13/13 [00:03<00:00,  4.22it/s]\n",
      "100%|██████████| 52/52 [00:19<00:00,  2.71it/s]\n",
      "100%|██████████| 13/13 [00:03<00:00,  4.06it/s]\n",
      "100%|██████████| 52/52 [00:18<00:00,  2.75it/s]\n",
      "100%|██████████| 13/13 [00:03<00:00,  4.16it/s]\n",
      "100%|██████████| 52/52 [00:18<00:00,  2.75it/s]\n",
      "100%|██████████| 13/13 [00:03<00:00,  4.06it/s]\n",
      "100%|██████████| 52/52 [00:19<00:00,  2.72it/s]\n",
      "100%|██████████| 13/13 [00:03<00:00,  4.10it/s]\n",
      "100%|██████████| 52/52 [00:18<00:00,  2.76it/s]\n",
      "100%|██████████| 13/13 [00:03<00:00,  4.18it/s]"
     ]
    },
    {
     "name": "stdout",
     "output_type": "stream",
     "text": [
      "Early stopped training at epoch 7\n"
     ]
    },
    {
     "name": "stderr",
     "output_type": "stream",
     "text": [
      "\n"
     ]
    }
   ],
   "source": [
    "train()"
   ]
  },
  {
   "cell_type": "code",
   "execution_count": 2,
   "id": "a7520d53-ce1b-4d9a-9d8c-4b2962ee523b",
   "metadata": {},
   "outputs": [
    {
     "ename": "NameError",
     "evalue": "name 'model' is not defined",
     "output_type": "error",
     "traceback": [
      "\u001b[0;31m---------------------------------------------------------------------------\u001b[0m",
      "\u001b[0;31mNameError\u001b[0m                                 Traceback (most recent call last)",
      "Cell \u001b[0;32mIn[2], line 2\u001b[0m\n\u001b[1;32m      1\u001b[0m checkpoint \u001b[38;5;241m=\u001b[39m torch\u001b[38;5;241m.\u001b[39mload(\u001b[38;5;124m'\u001b[39m\u001b[38;5;124mResEViT_multiclass.pth\u001b[39m\u001b[38;5;124m'\u001b[39m)\n\u001b[0;32m----> 2\u001b[0m \u001b[43mmodel\u001b[49m\u001b[38;5;241m.\u001b[39mload_state_dict(checkpoint)\n\u001b[1;32m      3\u001b[0m Test_data\u001b[38;5;241m=\u001b[39mTorch_load(image_size\u001b[38;5;241m=\u001b[39m\u001b[38;5;241m224\u001b[39m,batch_size\u001b[38;5;241m=\u001b[39m\u001b[38;5;241m8\u001b[39m,phase\u001b[38;5;241m=\u001b[39m\u001b[38;5;124m\"\u001b[39m\u001b[38;5;124mTest\u001b[39m\u001b[38;5;124m\"\u001b[39m,task\u001b[38;5;241m=\u001b[39m\u001b[38;5;124m\"\u001b[39m\u001b[38;5;124mmulti\u001b[39m\u001b[38;5;124m\"\u001b[39m)()\n\u001b[1;32m      4\u001b[0m Class_Report(Test_data[\u001b[38;5;124m\"\u001b[39m\u001b[38;5;124mTest\u001b[39m\u001b[38;5;124m\"\u001b[39m],model,device)()\n",
      "\u001b[0;31mNameError\u001b[0m: name 'model' is not defined"
     ]
    }
   ],
   "source": [
    "checkpoint = torch.load('ResEViT_multiclass.pth')\n",
    "model.load_state_dict(checkpoint)\n",
    "Test_data=Torch_load(image_size=224,batch_size=8,phase=\"Test\",task=\"multi\")()\n",
    "Class_Report(Test_data[\"Test\"],model,device)()"
   ]
  },
  {
   "cell_type": "code",
   "execution_count": null,
   "id": "22b6c150-2c31-4231-af82-c5ba38ea90af",
   "metadata": {},
   "outputs": [],
   "source": []
  }
 ],
 "metadata": {
  "kernelspec": {
   "display_name": "Python 3 (ipykernel)",
   "language": "python",
   "name": "python3"
  },
  "language_info": {
   "codemirror_mode": {
    "name": "ipython",
    "version": 3
   },
   "file_extension": ".py",
   "mimetype": "text/x-python",
   "name": "python",
   "nbconvert_exporter": "python",
   "pygments_lexer": "ipython3",
   "version": "3.10.14"
  }
 },
 "nbformat": 4,
 "nbformat_minor": 5
}
